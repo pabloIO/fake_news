{
 "cells": [
  {
   "cell_type": "code",
   "execution_count": 1,
   "metadata": {
    "collapsed": false
   },
   "outputs": [
    {
     "name": "stderr",
     "output_type": "stream",
     "text": [
      "/Users/pablojordan/anaconda/lib/python3.6/site-packages/sklearn/cross_validation.py:44: DeprecationWarning: This module was deprecated in version 0.18 in favor of the model_selection module into which all the refactored classes and functions are moved. Also note that the interface of the new CV iterators are different from that of this module. This module will be removed in 0.20.\n",
      "  \"This module will be removed in 0.20.\", DeprecationWarning)\n"
     ]
    }
   ],
   "source": [
    "import sys\n",
    "import os.path\n",
    "import pandas as pd\n",
    "import numpy as np\n",
    "from sklearn import cross_validation\n",
    "from sklearn.feature_extraction.text import TfidfVectorizer\n",
    "from sklearn.feature_extraction.text import CountVectorizer\n",
    "from sklearn.feature_extraction.text import CountVectorizer\n",
    "from sklearn.feature_selection import SelectPercentile, f_classif\n",
    "import requests\n",
    "import json\n",
    "import matplotlib.pyplot as plt\n",
    "import nltk\n",
    "from IPython.display import display, HTML\n",
    "from nltk.corpus import stopwords\n",
    "import time\n",
    "%matplotlib inline\n",
    "\n",
    "ENGLISH_STOP_WORDS = set(stopwords.words('english'))"
   ]
  },
  {
   "cell_type": "code",
   "execution_count": 4,
   "metadata": {
    "collapsed": false,
    "scrolled": false
   },
   "outputs": [
    {
     "name": "stderr",
     "output_type": "stream",
     "text": [
      "/Users/pablojordan/anaconda/lib/python3.6/site-packages/sklearn/feature_extraction/text.py:1059: FutureWarning: Conversion of the second argument of issubdtype from `float` to `np.floating` is deprecated. In future, it will be treated as `np.float64 == np.dtype(float).type`.\n",
      "  if hasattr(X, 'dtype') and np.issubdtype(X.dtype, np.float):\n"
     ]
    },
    {
     "name": "stdout",
     "output_type": "stream",
     "text": [
      "Tiempo para convertir texto en numero 38.31906294822693\n",
      "############### NAIVE BAYES - TRAINING MODEL#########\n",
      "TEST LABELS\n",
      "PREDICTED LABELS\n",
      "[0 0 0 ... 0 0 0]\n",
      "EXACTITUD DE CLASIFICACION\n",
      "0.8192307692307692\n",
      "###############END TRAINING MODEL#########\n",
      "\n",
      "\n",
      "\n"
     ]
    }
   ],
   "source": [
    "def vectorizer(file_training):\n",
    "    ## Get stop words list from JSON FILE\n",
    "    global ENGLISH_STOP_WORDS\n",
    "    pd.set_option('display.max_columns', 30)\n",
    "    df = pd.read_csv(file_training)\n",
    "    columns = ['id', 'title', 'author']\n",
    "    df.drop(columns, inplace=True, axis=1)    \n",
    "    vectorizer = TfidfVectorizer(sublinear_tf=True, max_df=0.5,\n",
    "                                 stop_words=ENGLISH_STOP_WORDS)\n",
    "    actual = time.time()\n",
    "    features_train_transformed = vectorizer.fit_transform(df['text'].values.astype('U'))\n",
    "    after = time.time()\n",
    "    print('Tiempo para convertir texto en numero {}'.format((after - actual)))\n",
    "#     features = vectorizer.get_feature_names()\n",
    "    features_train_transformed = features_train_transformed.toarray()\n",
    "#     display(pd.DataFrame(features_train_transformed, columns=features))\n",
    "    return features_train_transformed, df['label'].values\n",
    "    \n",
    "\n",
    "def NBClf():\n",
    "    from sklearn.naive_bayes import MultinomialNB\n",
    "    from sklearn.cross_validation import train_test_split\n",
    "    from sklearn import metrics\n",
    "    features_train, labels_train = vectorizer('train.csv')\n",
    "    x_train, x_test, y_train, y_test = train_test_split(features_train, labels_train, test_size=0.2, random_state=42)\n",
    "#     features_test = vectorizer('test.csv')\n",
    "    # 2. instantiate a Multinomial Naive Bayes model\n",
    "    nb = MultinomialNB()\n",
    "    nb.fit(x_train, y_train)\n",
    "#     n, m = features_test.shape\n",
    "    print(\"############### NAIVE BAYES - TRAINING MODEL#########\")\n",
    "#     print('TEST FEATURES')\n",
    "#     print(X_test)\n",
    "    print('TEST LABELS')\n",
    "#     print(y_test)\n",
    "    # print(X_test.shape)\n",
    "    y_pred = nb.predict(x_test)\n",
    "    print('PREDICTED LABELS')\n",
    "    print(y_pred)\n",
    "    \n",
    "    # print(nb.classes_)\n",
    "    # print(nb.class_count_)\n",
    "\n",
    "    accuracy = metrics.accuracy_score(y_test, y_pred)\n",
    "    print('EXACTITUD DE CLASIFICACION')\n",
    "    print(accuracy)\n",
    "    print(\"###############END TRAINING MODEL#########\")\n",
    "    print()\n",
    "    print()\n",
    "    print()\n",
    "    \n",
    "if __name__ == \"__main__\":    \n",
    "#     vectorizer('train.csv')\n",
    "    NBClf()\n"
   ]
  }
 ],
 "metadata": {
  "kernelspec": {
   "display_name": "Python 3",
   "language": "python",
   "name": "python3"
  },
  "language_info": {
   "codemirror_mode": {
    "name": "ipython",
    "version": 3
   },
   "file_extension": ".py",
   "mimetype": "text/x-python",
   "name": "python",
   "nbconvert_exporter": "python",
   "pygments_lexer": "ipython3",
   "version": "3.6.0"
  }
 },
 "nbformat": 4,
 "nbformat_minor": 2
}
